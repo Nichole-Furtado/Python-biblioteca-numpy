{
 "cells": [
  {
   "cell_type": "code",
   "execution_count": 16,
   "id": "c685fc81",
   "metadata": {},
   "outputs": [],
   "source": [
    "import numpy as np"
   ]
  },
  {
   "cell_type": "code",
   "execution_count": 17,
   "id": "040e9d53",
   "metadata": {},
   "outputs": [],
   "source": [
    "arr = np.array([1, 2, 3, 4, 5])"
   ]
  },
  {
   "cell_type": "code",
   "execution_count": 18,
   "metadata": {},
   "outputs": [
    {
     "data": {
      "text/plain": [
       "array([1, 2, 3, 4, 5])"
      ]
     },
     "execution_count": 18,
     "metadata": {},
     "output_type": "execute_result"
    }
   ],
   "source": [
    "arr"
   ]
  },
  {
   "cell_type": "code",
   "execution_count": 19,
   "id": "15f6281c",
   "metadata": {},
   "outputs": [
    {
     "data": {
      "text/plain": [
       "numpy.ndarray"
      ]
     },
     "execution_count": 19,
     "metadata": {},
     "output_type": "execute_result"
    }
   ],
   "source": [
    "type(arr)"
   ]
  },
  {
   "cell_type": "code",
   "execution_count": 20,
   "metadata": {},
   "outputs": [
    {
     "name": "stdout",
     "output_type": "stream",
     "text": [
      "array + 10:  [11 12 13 14 15]\n"
     ]
    }
   ],
   "source": [
    "soma = arr + 10\n",
    "print(\"array + 10: \", soma)"
   ]
  },
  {
   "cell_type": "code",
   "execution_count": 21,
   "id": "680da526",
   "metadata": {},
   "outputs": [
    {
     "name": "stdout",
     "output_type": "stream",
     "text": [
      "array * 2:  [ 2  4  6  8 10]\n"
     ]
    }
   ],
   "source": [
    "soma = arr * 2\n",
    "print(\"array * 2: \", soma)"
   ]
  },
  {
   "cell_type": "markdown",
   "id": "78ba1511",
   "metadata": {},
   "source": [
    "mean é da biblioteca, calcular a media da array"
   ]
  },
  {
   "cell_type": "code",
   "execution_count": 22,
   "id": "ad7b2389",
   "metadata": {},
   "outputs": [
    {
     "name": "stdout",
     "output_type": "stream",
     "text": [
      "media:  3.0\n"
     ]
    }
   ],
   "source": [
    "media = np.mean(arr)\n",
    "print(\"media: \", media)"
   ]
  }
 ],
 "metadata": {
  "kernelspec": {
   "display_name": "Python 3",
   "language": "python",
   "name": "python3"
  },
  "language_info": {
   "codemirror_mode": {
    "name": "ipython",
    "version": 3
   },
   "file_extension": ".py",
   "mimetype": "text/x-python",
   "name": "python",
   "nbconvert_exporter": "python",
   "pygments_lexer": "ipython3",
   "version": "3.13.2"
  }
 },
 "nbformat": 4,
 "nbformat_minor": 5
}
