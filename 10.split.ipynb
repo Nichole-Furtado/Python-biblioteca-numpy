{
 "cells": [
  {
   "cell_type": "code",
   "execution_count": 23,
   "id": "a479074d",
   "metadata": {},
   "outputs": [],
   "source": [
    "import numpy as np"
   ]
  },
  {
   "cell_type": "code",
   "execution_count": 24,
   "id": "ab6bef61",
   "metadata": {},
   "outputs": [
    {
     "data": {
      "text/plain": [
       "array([1, 2, 3])"
      ]
     },
     "execution_count": 24,
     "metadata": {},
     "output_type": "execute_result"
    }
   ],
   "source": [
    "array = np.array([1, 2, 3])\n",
    "array"
   ]
  },
  {
   "cell_type": "code",
   "execution_count": 25,
   "id": "3043f489",
   "metadata": {},
   "outputs": [
    {
     "data": {
      "text/plain": [
       "[array([1]), array([2]), array([3])]"
      ]
     },
     "execution_count": 25,
     "metadata": {},
     "output_type": "execute_result"
    }
   ],
   "source": [
    "array_divididos = np.split(array, 3)\n",
    "array_divididos\n",
    "#divididos em 3 partes"
   ]
  },
  {
   "cell_type": "code",
   "execution_count": 26,
   "id": "25d4bdb0",
   "metadata": {},
   "outputs": [
    {
     "name": "stdout",
     "output_type": "stream",
     "text": [
      "Parte 1 ==> [1]\n",
      "Parte 2 ==> [2]\n",
      "Parte 3 ==> [3]\n"
     ]
    }
   ],
   "source": [
    "for i, value in enumerate(array_divididos):\n",
    "    print(f\"Parte {i+1} ==> {value}\")"
   ]
  },
  {
   "cell_type": "code",
   "execution_count": 27,
   "id": "6a9f9336",
   "metadata": {},
   "outputs": [
    {
     "data": {
      "text/plain": [
       "array([30, 32, 31, 29, 28, 30, 31, 32, 33, 34, 35, 36, 37, 38, 39, 40, 41,\n",
       "       42, 43, 44, 45, 46, 47, 48, 49, 50, 51, 52, 53, 54, 55, 56])"
      ]
     },
     "execution_count": 27,
     "metadata": {},
     "output_type": "execute_result"
    }
   ],
   "source": [
    "# Criando uma array 1D com temperaturas diárias de um mês (30 dias)\n",
    "temperaturas = np.array([30, 32, 31, 29, 28, 30, 31, 32, 33, 34,\n",
    "                          35, 36, 37, 38, 39, 40, 41, 42, 43,\n",
    "                          44, 45, 46, 47, 48, 49, 50, 51,\n",
    "                          52, 53, 54, 55, 56])\n",
    "temperaturas"
   ]
  },
  {
   "cell_type": "code",
   "execution_count": 28,
   "id": "1b5b9ad8",
   "metadata": {},
   "outputs": [
    {
     "data": {
      "text/plain": [
       "[array([30, 32, 31, 29, 28, 30, 31, 32]),\n",
       " array([33, 34, 35, 36, 37, 38, 39, 40]),\n",
       " array([41, 42, 43, 44, 45, 46, 47, 48]),\n",
       " array([49, 50, 51, 52, 53, 54, 55, 56])]"
      ]
     },
     "execution_count": 28,
     "metadata": {},
     "output_type": "execute_result"
    }
   ],
   "source": [
    "#Dividindos as temperaturas em 4 semanas\n",
    "semanas = np.split(temperaturas, 4)\n",
    "semanas"
   ]
  },
  {
   "cell_type": "code",
   "execution_count": 29,
   "id": "b6641b64",
   "metadata": {},
   "outputs": [
    {
     "name": "stdout",
     "output_type": "stream",
     "text": [
      "Semana 1 ==> [30 32 31 29 28 30 31 32]\n",
      "Semana 2 ==> [33 34 35 36 37 38 39 40]\n",
      "Semana 3 ==> [41 42 43 44 45 46 47 48]\n",
      "Semana 4 ==> [49 50 51 52 53 54 55 56]\n"
     ]
    }
   ],
   "source": [
    "for i, value in enumerate (semanas):\n",
    "    print(f\"Semana {i+1} ==> {value}\")"
   ]
  },
  {
   "cell_type": "code",
   "execution_count": 30,
   "id": "3666d8a5",
   "metadata": {},
   "outputs": [
    {
     "data": {
      "text/plain": [
       "[np.float64(30.375), np.float64(36.5), np.float64(44.5), np.float64(52.5)]"
      ]
     },
     "execution_count": 30,
     "metadata": {},
     "output_type": "execute_result"
    }
   ],
   "source": [
    "medias_semanas = [np.mean(semana) for semana in semanas]\n",
    "medias_semanas"
   ]
  },
  {
   "cell_type": "code",
   "execution_count": 31,
   "id": "fbae8508",
   "metadata": {},
   "outputs": [
    {
     "name": "stdout",
     "output_type": "stream",
     "text": [
      "Média da Semana 1 ==> 30.38\n",
      "Média da Semana 2 ==> 36.50\n",
      "Média da Semana 3 ==> 44.50\n",
      "Média da Semana 4 ==> 52.50\n"
     ]
    }
   ],
   "source": [
    "for i, value in enumerate(medias_semanas):\n",
    "    print(f\"Média da Semana {i+1} ==> {value:.2f}\")"
   ]
  }
 ],
 "metadata": {
  "kernelspec": {
   "display_name": "Python 3",
   "language": "python",
   "name": "python3"
  },
  "language_info": {
   "codemirror_mode": {
    "name": "ipython",
    "version": 3
   },
   "file_extension": ".py",
   "mimetype": "text/x-python",
   "name": "python",
   "nbconvert_exporter": "python",
   "pygments_lexer": "ipython3",
   "version": "3.13.2"
  }
 },
 "nbformat": 4,
 "nbformat_minor": 5
}
