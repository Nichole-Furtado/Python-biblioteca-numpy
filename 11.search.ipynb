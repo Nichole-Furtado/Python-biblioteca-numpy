{
 "cells": [
  {
   "cell_type": "code",
   "execution_count": 1,
   "id": "75168ab0",
   "metadata": {},
   "outputs": [],
   "source": [
    "import numpy as np"
   ]
  },
  {
   "cell_type": "code",
   "execution_count": 2,
   "id": "f92dbf24",
   "metadata": {},
   "outputs": [
    {
     "data": {
      "text/plain": [
       "array([10, 20, 30, 40, 50])"
      ]
     },
     "execution_count": 2,
     "metadata": {},
     "output_type": "execute_result"
    }
   ],
   "source": [
    "array = np.array ([10, 20, 30, 40, 50])\n",
    "array"
   ]
  },
  {
   "cell_type": "code",
   "execution_count": 3,
   "id": "7828d5a1",
   "metadata": {},
   "outputs": [
    {
     "data": {
      "text/plain": [
       "(array([2]),)"
      ]
     },
     "execution_count": 3,
     "metadata": {},
     "output_type": "execute_result"
    }
   ],
   "source": [
    "# Pesquisar a posição valor 30\n",
    "posicao = np.where(array == 30)\n",
    "posicao"
   ]
  },
  {
   "cell_type": "code",
   "execution_count": 4,
   "id": "359ee7c8",
   "metadata": {},
   "outputs": [
    {
     "data": {
      "text/plain": [
       "array([ 7.5,  8. ,  9. ,  6.5, 10. ,  8.5])"
      ]
     },
     "execution_count": 4,
     "metadata": {},
     "output_type": "execute_result"
    }
   ],
   "source": [
    "#Criar um array com notas de alunos\n",
    "notas = np.array([7.5, 8.0, 9.0, 6.5, 10.0, 8.5])\n",
    "notas"
   ]
  },
  {
   "cell_type": "code",
   "execution_count": 5,
   "id": "18298da4",
   "metadata": {},
   "outputs": [
    {
     "data": {
      "text/plain": [
       "(array([0, 1, 2, 3, 4, 5]),)"
      ]
     },
     "execution_count": 5,
     "metadata": {},
     "output_type": "execute_result"
    }
   ],
   "source": [
    "#Pesquisar quais alunos foram aprovados (nota > 6.0)\n",
    "aprovados = np.where(notas > 6.0)\n",
    "aprovados\n",
    "#Traz indices"
   ]
  },
  {
   "cell_type": "code",
   "execution_count": null,
   "id": "041cf0d2",
   "metadata": {},
   "outputs": [
    {
     "data": {
      "text/plain": [
       "array([ 7.5,  8. ,  9. ,  6.5, 10. ,  8.5])"
      ]
     },
     "execution_count": 6,
     "metadata": {},
     "output_type": "execute_result"
    }
   ],
   "source": [
    "notas[aprovados] #Traz notas dos alunos aprovados\n",
    "#sem o uso do where"
   ]
  },
  {
   "cell_type": "code",
   "execution_count": null,
   "id": "13a91ae0",
   "metadata": {},
   "outputs": [],
   "source": [
    "nota_maxima = np.max(notas) #Traz a maior nota\n",
    "nota_maxima"
   ]
  },
  {
   "cell_type": "code",
   "execution_count": null,
   "id": "cc2e2436",
   "metadata": {},
   "outputs": [],
   "source": [
    "indice_maximo = np.argmax(notas) #Traz o indice da maior nota\n",
    "indice_maximo"
   ]
  }
 ],
 "metadata": {
  "kernelspec": {
   "display_name": "Python 3",
   "language": "python",
   "name": "python3"
  },
  "language_info": {
   "codemirror_mode": {
    "name": "ipython",
    "version": 3
   },
   "file_extension": ".py",
   "mimetype": "text/x-python",
   "name": "python",
   "nbconvert_exporter": "python",
   "pygments_lexer": "ipython3",
   "version": "3.13.2"
  }
 },
 "nbformat": 4,
 "nbformat_minor": 5
}
