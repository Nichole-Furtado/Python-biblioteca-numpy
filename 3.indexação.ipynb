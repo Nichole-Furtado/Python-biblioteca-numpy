{
 "cells": [
  {
   "cell_type": "code",
   "execution_count": 16,
   "id": "6fe93c7f",
   "metadata": {},
   "outputs": [],
   "source": [
    "import numpy as np"
   ]
  },
  {
   "cell_type": "code",
   "execution_count": 25,
   "id": "88def2ca",
   "metadata": {},
   "outputs": [
    {
     "name": "stdout",
     "output_type": "stream",
     "text": [
      "2\n",
      "(3, 3)\n"
     ]
    },
    {
     "data": {
      "text/plain": [
       "array([[10, 20, 30],\n",
       "       [40, 50, 60],\n",
       "       [70, 80, 90]])"
      ]
     },
     "execution_count": 25,
     "metadata": {},
     "output_type": "execute_result"
    }
   ],
   "source": [
    "array = np.array([[10, 20, 30],\n",
    "                 [40, 50, 60],\n",
    "                 [70, 80, 90]])\n",
    "print(array.ndim) #2\n",
    "print(array.shape) #(3, 3)\n",
    "array"
   ]
  },
  {
   "cell_type": "code",
   "execution_count": 18,
   "id": "1807a808",
   "metadata": {},
   "outputs": [
    {
     "data": {
      "text/plain": [
       "np.int64(60)"
      ]
     },
     "execution_count": 18,
     "metadata": {},
     "output_type": "execute_result"
    }
   ],
   "source": [
    "#buscar elemento na linha 1 e coluna 2, lembrando que começa em 0\n",
    "elemento = array[1, 2]\n",
    "elemento"
   ]
  },
  {
   "cell_type": "code",
   "execution_count": 19,
   "id": "e7852a73",
   "metadata": {},
   "outputs": [
    {
     "data": {
      "text/plain": [
       "array([10, 20, 30])"
      ]
     },
     "execution_count": 19,
     "metadata": {},
     "output_type": "execute_result"
    }
   ],
   "source": [
    "#Pegar dados da primeira linha\n",
    "linha_0 = array[0]\n",
    "linha_0"
   ]
  },
  {
   "cell_type": "code",
   "execution_count": 20,
   "id": "15604fb8",
   "metadata": {},
   "outputs": [
    {
     "data": {
      "text/plain": [
       "array([20, 50, 80])"
      ]
     },
     "execution_count": 20,
     "metadata": {},
     "output_type": "execute_result"
    }
   ],
   "source": [
    "#Acessando a coluna 1\n",
    "coluna_1 = array[:, 1]#:,significa todas as linhas e a coluna 1\n",
    "coluna_1"
   ]
  },
  {
   "cell_type": "code",
   "execution_count": 21,
   "id": "aec735a9",
   "metadata": {},
   "outputs": [
    {
     "data": {
      "text/plain": [
       "array([[20, 30],\n",
       "       [50, 60]])"
      ]
     },
     "execution_count": 21,
     "metadata": {},
     "output_type": "execute_result"
    }
   ],
   "source": [
    "#Fatiando para obter um subarray\n",
    "subarray = array[0:2, 1:3]#linhas 0 e 1 e colunas 1 e 2\n",
    "subarray"
   ]
  },
  {
   "cell_type": "code",
   "execution_count": 22,
   "id": "942dcb38",
   "metadata": {},
   "outputs": [
    {
     "data": {
      "text/plain": [
       "array([[False, False, False],\n",
       "       [False, False,  True],\n",
       "       [ True,  True,  True]])"
      ]
     },
     "execution_count": 22,
     "metadata": {},
     "output_type": "execute_result"
    }
   ],
   "source": [
    "#mascar o valor de um elemento\n",
    "mascara = array > 50\n",
    "mascara"
   ]
  },
  {
   "cell_type": "code",
   "execution_count": 23,
   "id": "d31e2d9f",
   "metadata": {},
   "outputs": [
    {
     "data": {
      "text/plain": [
       "array([60, 70, 80, 90])"
      ]
     },
     "execution_count": 23,
     "metadata": {},
     "output_type": "execute_result"
    }
   ],
   "source": [
    "#Acessando os elementos maiores que 50\n",
    "elementos_maiores_50 = array[mascara]\n",
    "elementos_maiores_50"
   ]
  },
  {
   "cell_type": "code",
   "execution_count": 24,
   "id": "b597e795",
   "metadata": {},
   "outputs": [
    {
     "data": {
      "text/plain": [
       "array([[ 10,  20,  30],\n",
       "       [ 40, 100,  60],\n",
       "       [ 70,  80,  90]])"
      ]
     },
     "execution_count": 24,
     "metadata": {},
     "output_type": "execute_result"
    }
   ],
   "source": [
    "#Modificando elemento na linha 1, coluna 1\n",
    "array[1, 1] = 100 #modificar 50 para 100\n",
    "array"
   ]
  }
 ],
 "metadata": {
  "kernelspec": {
   "display_name": "Python 3",
   "language": "python",
   "name": "python3"
  },
  "language_info": {
   "codemirror_mode": {
    "name": "ipython",
    "version": 3
   },
   "file_extension": ".py",
   "mimetype": "text/x-python",
   "name": "python",
   "nbconvert_exporter": "python",
   "pygments_lexer": "ipython3",
   "version": "3.13.2"
  }
 },
 "nbformat": 4,
 "nbformat_minor": 5
}
