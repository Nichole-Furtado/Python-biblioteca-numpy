{
 "cells": [
  {
   "cell_type": "code",
   "execution_count": 3,
   "id": "bb654a14",
   "metadata": {},
   "outputs": [],
   "source": [
    "import numpy as np"
   ]
  },
  {
   "cell_type": "code",
   "execution_count": 4,
   "id": "046fac77",
   "metadata": {},
   "outputs": [
    {
     "data": {
      "text/plain": [
       "array([[1, 2, 3],\n",
       "       [4, 5, 6],\n",
       "       [7, 8, 9]])"
      ]
     },
     "execution_count": 4,
     "metadata": {},
     "output_type": "execute_result"
    }
   ],
   "source": [
    "array = np.array([[1, 2, 3],\n",
    "                 [4, 5, 6],\n",
    "                 [7, 8, 9]])\n",
    "array"
   ]
  },
  {
   "cell_type": "code",
   "execution_count": 8,
   "id": "ebaf9467",
   "metadata": {},
   "outputs": [
    {
     "name": "stdout",
     "output_type": "stream",
     "text": [
      "1 2 3 4 5 6 7 8 9 "
     ]
    }
   ],
   "source": [
    "# Iteração simples usando loop for\n",
    "# 1º loop: percorre as linhas depois as colunas\n",
    "for linha in array:\n",
    "        for valor in linha:\n",
    "            print (valor, end=' ')# Até o final da linha"
   ]
  },
  {
   "cell_type": "code",
   "execution_count": 10,
   "id": "58aa42ea",
   "metadata": {},
   "outputs": [
    {
     "name": "stdout",
     "output_type": "stream",
     "text": [
      "1 2 3 4 5 6 7 8 9 "
     ]
    }
   ],
   "source": [
    "# Usando o np.nditer() para iterar mais rapidamente\n",
    "for valor in np.nditer(array):\n",
    "    print(valor, end=' ')\n"
   ]
  },
  {
   "cell_type": "code",
   "execution_count": null,
   "id": "5565b99a",
   "metadata": {},
   "outputs": [],
   "source": [
    "#Iteração com condições\n",
    "for valor in np.nditer(array):\n",
    "    if valor > 5:\n",
    "        print(valor, end=' ')\n"
   ]
  },
  {
   "cell_type": "code",
   "execution_count": null,
   "id": "a36abdca",
   "metadata": {},
   "outputs": [
    {
     "name": "stdout",
     "output_type": "stream",
     "text": [
      "[0, 0]: 1\n",
      "[0, 1]: 2\n",
      "[0, 2]: 3\n",
      "[1, 0]: 4\n",
      "[1, 1]: 5\n",
      "[1, 2]: 6\n",
      "[2, 0]: 7\n",
      "[2, 1]: 8\n",
      "[2, 2]: 9\n"
     ]
    }
   ],
   "source": [
    "# Iteração com indices\n",
    "\n",
    "for i in range(array.shape[0]):#shape é o tamanho do array\n",
    "    for j in range(array.shape[1]):\n",
    "        print(f'[{i}, {j}]: {array[i, j]}')# Até o final da linha"
   ]
  }
 ],
 "metadata": {
  "kernelspec": {
   "display_name": "Python 3",
   "language": "python",
   "name": "python3"
  },
  "language_info": {
   "codemirror_mode": {
    "name": "ipython",
    "version": 3
   },
   "file_extension": ".py",
   "mimetype": "text/x-python",
   "name": "python",
   "nbconvert_exporter": "python",
   "pygments_lexer": "ipython3",
   "version": "3.13.2"
  }
 },
 "nbformat": 4,
 "nbformat_minor": 5
}
