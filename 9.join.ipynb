{
 "cells": [
  {
   "cell_type": "code",
   "execution_count": 76,
   "id": "abc9bec5",
   "metadata": {},
   "outputs": [],
   "source": [
    "import numpy as np"
   ]
  },
  {
   "cell_type": "code",
   "execution_count": 77,
   "id": "cc8ed4ea",
   "metadata": {},
   "outputs": [],
   "source": [
    "# Criando dois arrays 1D\n",
    "\n",
    "array1 = np.array([1, 2, 3])\n",
    "array2 = np.array([4, 5, 6])"
   ]
  },
  {
   "cell_type": "code",
   "execution_count": 78,
   "id": "ff413b45",
   "metadata": {},
   "outputs": [
    {
     "data": {
      "text/plain": [
       "array([4, 5, 6])"
      ]
     },
     "execution_count": 78,
     "metadata": {},
     "output_type": "execute_result"
    }
   ],
   "source": [
    "#Concatenando os arrays 1D\n",
    "novo_array = np.concatenate((array1, array2))\n",
    "array2"
   ]
  },
  {
   "cell_type": "code",
   "execution_count": 79,
   "id": "677ecd16",
   "metadata": {},
   "outputs": [],
   "source": [
    "#Criando arrays para nomes e notas\n",
    "nomes = np.array(['Ana', 'Beto', 'Carlos'])\n",
    "notas_matematica = np.array([7.5, 8.0, 9.0])\n",
    "notas_fisica = np.array([6.5, 7.0, 8.5])\n"
   ]
  },
  {
   "cell_type": "code",
   "execution_count": 80,
   "id": "a57055d3",
   "metadata": {},
   "outputs": [
    {
     "data": {
      "text/plain": [
       "array([['Ana', 'Beto', 'Carlos'],\n",
       "       ['7.5', '8.0', '9.0'],\n",
       "       ['6.5', '7.0', '8.5']], dtype='<U32')"
      ]
     },
     "execution_count": 80,
     "metadata": {},
     "output_type": "execute_result"
    }
   ],
   "source": [
    "#Usando np.stack para empilhar verticalmente os dados\n",
    "dados_estudantes = np.vstack((nomes, notas_matematica, notas_fisica))\n",
    "dados_estudantes"
   ]
  },
  {
   "cell_type": "code",
   "execution_count": 81,
   "id": "32ba50b3",
   "metadata": {},
   "outputs": [
    {
     "data": {
      "text/plain": [
       "array([[7.5, 6.5],\n",
       "       [8. , 7. ],\n",
       "       [9. , 8.5]])"
      ]
     },
     "execution_count": 81,
     "metadata": {},
     "output_type": "execute_result"
    }
   ],
   "source": [
    "# Usando o np.staskck para empilhar horizontalmente os dados\n",
    "matriz_notas = np.column_stack((notas_matematica, notas_fisica))\n",
    "matriz_notas                       "
   ]
  },
  {
   "cell_type": "code",
   "execution_count": 82,
   "id": "ad0fbcaa",
   "metadata": {},
   "outputs": [
    {
     "data": {
      "text/plain": [
       "array([[7.5 , 6.5 , 7.  ],\n",
       "       [8.  , 7.  , 7.5 ],\n",
       "       [9.  , 8.5 , 8.75]])"
      ]
     },
     "execution_count": 82,
     "metadata": {},
     "output_type": "execute_result"
    }
   ],
   "source": [
    "# Adicionando colunar com a média das notas\n",
    "media_notas = np.mean(matriz_notas, axis=1)\n",
    "matriz_notas = np.column_stack((matriz_notas, media_notas))\n",
    "matriz_notas"
   ]
  }
 ],
 "metadata": {
  "kernelspec": {
   "display_name": "Python 3",
   "language": "python",
   "name": "python3"
  },
  "language_info": {
   "codemirror_mode": {
    "name": "ipython",
    "version": 3
   },
   "file_extension": ".py",
   "mimetype": "text/x-python",
   "name": "python",
   "nbconvert_exporter": "python",
   "pygments_lexer": "ipython3",
   "version": "3.13.2"
  }
 },
 "nbformat": 4,
 "nbformat_minor": 5
}
