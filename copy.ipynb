{
 "cells": [
  {
   "cell_type": "markdown",
   "id": "57e6d9a8",
   "metadata": {},
   "source": [
    "Copy \n",
    "  - Uma nova cópia do array é criada em memória\n",
    "Isso significa que as 2 matrizes são idenpendentes uma da outra\n",
    "Matriz Original e a Cópia."
   ]
  },
  {
   "cell_type": "markdown",
   "id": "88b4f819",
   "metadata": {},
   "source": [
    "View\n",
    "-  Não é criada em uma nova cópia da memória.\n",
    "A view compartilha os mesmos dados que o array original.\n"
   ]
  },
  {
   "cell_type": "code",
   "execution_count": 26,
   "id": "052ac1e1",
   "metadata": {},
   "outputs": [],
   "source": [
    "import numpy as np"
   ]
  },
  {
   "cell_type": "code",
   "execution_count": 27,
   "id": "67a935a5",
   "metadata": {},
   "outputs": [
    {
     "data": {
      "text/plain": [
       "array([[1, 2, 3],\n",
       "       [4, 5, 6],\n",
       "       [7, 8, 9]])"
      ]
     },
     "execution_count": 27,
     "metadata": {},
     "output_type": "execute_result"
    }
   ],
   "source": [
    "array_orig = np.array([[1, 2, 3], \n",
    "                       [4, 5, 6],\n",
    "                       [7, 8, 9]])\n",
    "array_orig"
   ]
  },
  {
   "cell_type": "code",
   "execution_count": 28,
   "id": "80935fc0",
   "metadata": {},
   "outputs": [
    {
     "data": {
      "text/plain": [
       "array([[5, 6],\n",
       "       [8, 9]])"
      ]
     },
     "execution_count": 28,
     "metadata": {},
     "output_type": "execute_result"
    }
   ],
   "source": [
    "# 1- Cópia Rasa (view)\n",
    "array_view = array_orig[1:, 1:]\n",
    "array_view\n"
   ]
  },
  {
   "cell_type": "code",
   "execution_count": 29,
   "id": "ef24cd77",
   "metadata": {},
   "outputs": [
    {
     "data": {
      "text/plain": [
       "array([[99,  6],\n",
       "       [ 8,  9]])"
      ]
     },
     "execution_count": 29,
     "metadata": {},
     "output_type": "execute_result"
    }
   ],
   "source": [
    "array_view[0, 0] = 99\n",
    "array_view"
   ]
  },
  {
   "cell_type": "code",
   "execution_count": 30,
   "id": "e319875d",
   "metadata": {},
   "outputs": [
    {
     "data": {
      "text/plain": [
       "array([[ 1,  2,  3],\n",
       "       [ 4, 99,  6],\n",
       "       [ 7,  8,  9]])"
      ]
     },
     "execution_count": 30,
     "metadata": {},
     "output_type": "execute_result"
    }
   ],
   "source": [
    "array_orig"
   ]
  },
  {
   "cell_type": "code",
   "execution_count": 31,
   "id": "3a651416",
   "metadata": {},
   "outputs": [
    {
     "data": {
      "text/plain": [
       "array([[ 1,  2,  3],\n",
       "       [ 4, 99,  6],\n",
       "       [ 7,  8,  9]])"
      ]
     },
     "execution_count": 31,
     "metadata": {},
     "output_type": "execute_result"
    }
   ],
   "source": [
    "#2. Cópia Profunda (Copy)\n",
    "array_cop = array_orig.copy()\n",
    "array_cop"
   ]
  },
  {
   "cell_type": "code",
   "execution_count": 32,
   "id": "ed788d47",
   "metadata": {},
   "outputs": [
    {
     "data": {
      "text/plain": [
       "array([[ 1,  2,  3],\n",
       "       [ 4, 99,  6],\n",
       "       [ 7,  8,  9]])"
      ]
     },
     "execution_count": 32,
     "metadata": {},
     "output_type": "execute_result"
    }
   ],
   "source": [
    "array_cop[0, 0] = 100\n",
    "array_orig"
   ]
  },
  {
   "cell_type": "code",
   "execution_count": 33,
   "id": "23ea4af3",
   "metadata": {},
   "outputs": [
    {
     "data": {
      "text/plain": [
       "array([[100,   2,   3],\n",
       "       [  4,  99,   6],\n",
       "       [  7,   8,   9]])"
      ]
     },
     "execution_count": 33,
     "metadata": {},
     "output_type": "execute_result"
    }
   ],
   "source": [
    "array_cop"
   ]
  }
 ],
 "metadata": {
  "kernelspec": {
   "display_name": "Python 3",
   "language": "python",
   "name": "python3"
  },
  "language_info": {
   "codemirror_mode": {
    "name": "ipython",
    "version": 3
   },
   "file_extension": ".py",
   "mimetype": "text/x-python",
   "name": "python",
   "nbconvert_exporter": "python",
   "pygments_lexer": "ipython3",
   "version": "3.13.2"
  }
 },
 "nbformat": 4,
 "nbformat_minor": 5
}
