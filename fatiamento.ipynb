{
 "cells": [
  {
   "cell_type": "code",
   "execution_count": 1,
   "id": "c407ca28",
   "metadata": {},
   "outputs": [],
   "source": [
    "import numpy as np"
   ]
  },
  {
   "cell_type": "code",
   "execution_count": 2,
   "id": "cf1e6c58",
   "metadata": {},
   "outputs": [
    {
     "data": {
      "text/plain": [
       "array([[ 1,  2,  3,  4,  5],\n",
       "       [ 6,  7,  8,  9, 10],\n",
       "       [11, 12, 13, 14, 15],\n",
       "       [16, 17, 18, 19, 20]])"
      ]
     },
     "execution_count": 2,
     "metadata": {},
     "output_type": "execute_result"
    }
   ],
   "source": [
    "array = np.array([[1, 2, 3, 4, 5],\n",
    "                 [6, 7, 8, 9, 10],\n",
    "                 [11, 12, 13, 14, 15],\n",
    "                 [16, 17, 18, 19, 20]])\n",
    "array"
   ]
  },
  {
   "cell_type": "code",
   "execution_count": 3,
   "id": "1f4e7591",
   "metadata": {},
   "outputs": [
    {
     "data": {
      "text/plain": [
       "array([[ 1,  2,  3,  4,  5],\n",
       "       [ 6,  7,  8,  9, 10]])"
      ]
     },
     "execution_count": 3,
     "metadata": {},
     "output_type": "execute_result"
    }
   ],
   "source": [
    "# Fatiando as duas primeiras linhas\n",
    "Fatiando_linhas = array [0:2, :]\n",
    "Fatiando_linhas"
   ]
  },
  {
   "cell_type": "code",
   "execution_count": null,
   "id": "0b0d9484",
   "metadata": {},
   "outputs": [
    {
     "data": {
      "text/plain": [
       "array([[ 1,  2,  3,  4,  5],\n",
       "       [ 6,  7,  8,  9, 10],\n",
       "       [11, 12, 13, 14, 15]])"
      ]
     },
     "execution_count": 4,
     "metadata": {},
     "output_type": "execute_result"
    }
   ],
   "source": [
    "# Fatiando as duas primeiras linhas e todas as colunas\n",
    "Fatiando_linhas = array [0:3, :]\n",
    "Fatiando_linhas"
   ]
  },
  {
   "cell_type": "code",
   "execution_count": 6,
   "id": "a2fbb82f",
   "metadata": {},
   "outputs": [
    {
     "data": {
      "text/plain": [
       "array([[ 1,  2,  3],\n",
       "       [ 6,  7,  8],\n",
       "       [11, 12, 13],\n",
       "       [16, 17, 18]])"
      ]
     },
     "execution_count": 6,
     "metadata": {},
     "output_type": "execute_result"
    }
   ],
   "source": [
    "#Fatiando 3 primeiras colunas\n",
    "fatiando_colunas = array [:, 0:3]\n",
    "fatiando_colunas"
   ]
  },
  {
   "cell_type": "code",
   "execution_count": 7,
   "id": "926ea3b0",
   "metadata": {},
   "outputs": [
    {
     "data": {
      "text/plain": [
       "array([[ 7,  8],\n",
       "       [12, 13]])"
      ]
     },
     "execution_count": 7,
     "metadata": {},
     "output_type": "execute_result"
    }
   ],
   "source": [
    "subarray_central = array[1:3, 1:3]\n",
    "subarray_central"
   ]
  },
  {
   "cell_type": "code",
   "execution_count": 8,
   "id": "eba879a7",
   "metadata": {},
   "outputs": [
    {
     "data": {
      "text/plain": [
       "array([[14, 15],\n",
       "       [19, 20]])"
      ]
     },
     "execution_count": 8,
     "metadata": {},
     "output_type": "execute_result"
    }
   ],
   "source": [
    "subarray_lateral  = array[2:4, 3:5]\n",
    "subarray_lateral"
   ]
  },
  {
   "cell_type": "code",
   "execution_count": null,
   "id": "eb0e8e01",
   "metadata": {},
   "outputs": [
    {
     "data": {
      "text/plain": [
       "array([[  1,   2,   3,   4,   5],\n",
       "       [  6,  99, 100,   9,  10],\n",
       "       [ 11, 101, 102,  14,  15],\n",
       "       [ 16,  17,  18,  19,  20]])"
      ]
     },
     "execution_count": 9,
     "metadata": {},
     "output_type": "execute_result"
    }
   ],
   "source": [
    "#modificar um subarray\n",
    "array[1:3, 1:3] = [[99, 100],\n",
    "                   [101, 102]]\n",
    "array\n",
    "#aplicar filtros e modificandos pixels da imagens através do fatiamento de arrays da imagens"
   ]
  }
 ],
 "metadata": {
  "kernelspec": {
   "display_name": "Python 3",
   "language": "python",
   "name": "python3"
  },
  "language_info": {
   "codemirror_mode": {
    "name": "ipython",
    "version": 3
   },
   "file_extension": ".py",
   "mimetype": "text/x-python",
   "name": "python",
   "nbconvert_exporter": "python",
   "pygments_lexer": "ipython3",
   "version": "3.13.2"
  }
 },
 "nbformat": 4,
 "nbformat_minor": 5
}
