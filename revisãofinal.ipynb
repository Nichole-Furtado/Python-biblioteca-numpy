{
 "cells": [
  {
   "cell_type": "code",
   "execution_count": 51,
   "id": "2d5076ab",
   "metadata": {},
   "outputs": [],
   "source": [
    "import numpy as np"
   ]
  },
  {
   "cell_type": "code",
   "execution_count": 52,
   "id": "69a73218",
   "metadata": {},
   "outputs": [],
   "source": [
    "#Criando os dados\n",
    "nomes = np.array(['Ana', 'Bia', 'Carlos', 'Daniel', 'Eduarda'])\n",
    "notas_matematica = np.array ([55, 70, 80, 90, 100])\n",
    "notas_fisica = np.array ([60, 75, 85, 95, 100])"
   ]
  },
  {
   "cell_type": "code",
   "execution_count": 53,
   "id": "28fc5eb6",
   "metadata": {},
   "outputs": [
    {
     "data": {
      "text/plain": [
       "array([ 57.5,  72.5,  82.5,  92.5, 100. ])"
      ]
     },
     "execution_count": 53,
     "metadata": {},
     "output_type": "execute_result"
    }
   ],
   "source": [
    "# Calculando média das notas\n",
    "media = np.mean(np.column_stack((notas_matematica, notas_fisica)), axis=1)\n",
    "media"
   ]
  },
  {
   "cell_type": "code",
   "execution_count": 54,
   "id": "94f3c55e",
   "metadata": {},
   "outputs": [
    {
     "data": {
      "text/plain": [
       "(array([1, 2, 3, 4]),)"
      ]
     },
     "execution_count": 54,
     "metadata": {},
     "output_type": "execute_result"
    }
   ],
   "source": [
    "# 3 Identificando alunos aprovados\n",
    "alunos_aprovados = np.where(media >= 70)\n",
    "alunos_aprovados"
   ]
  },
  {
   "cell_type": "code",
   "execution_count": 55,
   "id": "452bf466",
   "metadata": {},
   "outputs": [
    {
     "data": {
      "text/plain": [
       "array([['Ana', '55', '60', '57.5'],\n",
       "       ['Bia', '70', '75', '72.5'],\n",
       "       ['Carlos', '80', '85', '82.5'],\n",
       "       ['Daniel', '90', '95', '92.5'],\n",
       "       ['Eduarda', '100', '100', '100.0']], dtype='<U32')"
      ]
     },
     "execution_count": 55,
     "metadata": {},
     "output_type": "execute_result"
    }
   ],
   "source": [
    "# Organizando os dados em uma tablea\n",
    "dados_tabela = np.column_stack((nomes, notas_matematica, notas_fisica, media))\n",
    "dados_tabela"
   ]
  },
  {
   "cell_type": "code",
   "execution_count": 56,
   "id": "3f6d7f79",
   "metadata": {},
   "outputs": [
    {
     "name": "stdout",
     "output_type": "stream",
     "text": [
      "Aluno Bia foi aprovado com média (media[i]:.2f)\n",
      "Aluno Carlos foi aprovado com média (media[i]:.2f)\n",
      "Aluno Daniel foi aprovado com média (media[i]:.2f)\n",
      "Aluno Eduarda foi aprovado com média (media[i]:.2f)\n"
     ]
    }
   ],
   "source": [
    "for i in alunos_aprovados[0]:\n",
    "    print(f\"Aluno {dados_tabela[i][0]} foi aprovado com média (media[i]:.2f)\")"
   ]
  },
  {
   "cell_type": "code",
   "execution_count": 60,
   "id": "d9402f66",
   "metadata": {},
   "outputs": [
    {
     "name": "stdout",
     "output_type": "stream",
     "text": [
      "Grupo 1: ['Ana' 'Bia']\n",
      "Grupo 2: ['Carlos' 'Daniel']\n",
      "Grupo 3: ['Eduarda']\n"
     ]
    }
   ],
   "source": [
    "#Dividindo os alunos em grupos\n",
    "grupos = np.array_split(nomes, 3)\n",
    "for i, value in enumerate(grupos):\n",
    "    print(f\"Grupo {i+1}: {value}\")"
   ]
  }
 ],
 "metadata": {
  "kernelspec": {
   "display_name": "Python 3",
   "language": "python",
   "name": "python3"
  },
  "language_info": {
   "codemirror_mode": {
    "name": "ipython",
    "version": 3
   },
   "file_extension": ".py",
   "mimetype": "text/x-python",
   "name": "python",
   "nbconvert_exporter": "python",
   "pygments_lexer": "ipython3",
   "version": "3.13.2"
  }
 },
 "nbformat": 4,
 "nbformat_minor": 5
}
